{
 "cells": [
  {
   "cell_type": "markdown",
   "metadata": {},
   "source": [
    "# TP Advanced machine learning : Part I"
   ]
  },
  {
   "cell_type": "code",
   "execution_count": 4,
   "metadata": {},
   "outputs": [
    {
     "name": "stdout",
     "output_type": "stream",
     "text": [
      "--2022-01-14 14:33:43--  http://go.criteo.net/criteo-ppml-challenge-adkdd21-dataset.zip\n",
      "Resolving go.criteo.net (go.criteo.net)... 178.250.0.152\n",
      "Connecting to go.criteo.net (go.criteo.net)|178.250.0.152|:80... connected.\n",
      "HTTP request sent, awaiting response... 302 Found\n",
      "Location: https://criteostorage.blob.core.windows.net/criteo-research-datasets/criteo_ppml_challenge_adkdd2021/criteo-ppml-challenge-adkdd21-dataset.zip [following]\n",
      "--2022-01-14 14:33:44--  https://criteostorage.blob.core.windows.net/criteo-research-datasets/criteo_ppml_challenge_adkdd2021/criteo-ppml-challenge-adkdd21-dataset.zip\n",
      "Resolving criteostorage.blob.core.windows.net (criteostorage.blob.core.windows.net)... 20.209.1.1\n",
      "Connecting to criteostorage.blob.core.windows.net (criteostorage.blob.core.windows.net)|20.209.1.1|:443... connected.\n",
      "HTTP request sent, awaiting response... 200 OK\n",
      "Length: 297834690 (284M) [application/zip]\n",
      "Saving to: ‘criteo-ppml-challenge-adkdd21-dataset.zip’\n",
      "\n",
      "criteo-ppml-challen 100%[===================>] 284.04M  1018KB/s    in 21m 36s \n",
      "\n",
      "2022-01-14 14:55:21 (224 KB/s) - ‘criteo-ppml-challenge-adkdd21-dataset.zip’ saved [297834690/297834690]\n",
      "\n",
      "Archive:  criteo-ppml-challenge-adkdd21-dataset.zip\n",
      "  inflating: aggregated_noisy_data_pairs.csv.gz  \n",
      "  inflating: aggregated_noisy_data_singles.csv.gz  \n",
      "  inflating: X_test.csv.gz           \n",
      "  inflating: X_train.csv.gz          \n",
      "  inflating: y_test.csv.gz           \n",
      "  inflating: y_train.csv.gz          \n"
     ]
    }
   ],
   "source": [
    "!wget http://go.criteo.net/criteo-ppml-challenge-adkdd21-dataset.zip\n",
    "!unzip criteo-ppml-challenge-adkdd21-dataset.zip\n",
    "!rm aggregated_noisy_data_pairs.csv.gz aggregated_noisy_data_singles.csv.gz  \n",
    "!gunzip X_test.csv.gz X_train.csv.gz y_test.csv.gz y_train.csv.gz\n",
    "!rm criteo-ppml-challenge-adkdd21-dataset.zip\n",
    "!sed -n 1,10000p X_test.csv > X_valid.csv #CARE we took 10k lines from test as validation.\n",
    "!sed -n 1,10000p y_test.csv > y_valid.csv"
   ]
  },
  {
   "cell_type": "markdown",
   "metadata": {},
   "source": [
    "## Answer question 1 : "
   ]
  },
  {
   "cell_type": "markdown",
   "metadata": {},
   "source": [
    "To answer that question we introduce the matrix ```v``` that has a ```(D,K)``` shape. After that we modified the ```get_p``` and ```update_w``` functions : \n",
    "- ```get_p_factorization``` know that into account the $\\sum_{i=1}^{n}\\sum_{j=i+1}^{n} x_i x_j v_{i, j}$ part.\n",
    "- ```update_wL2_factorization``` update the values for the matrix ```v``` with an L2 regularization. For the matrix ```v``` terms we use the partial derivative for $v_{i,f}$ of the matrix ```v``` given by $x_{i} \\sum_{j=1}^{n} v_{j, f} x_{j}-v_{i, f} x_{i}^{2}$ "
   ]
  },
  {
   "cell_type": "code",
   "execution_count": 21,
   "metadata": {},
   "outputs": [],
   "source": [
    "# ANSWER - same stuff with a L2 regularizer (bias term + quad terms)\n",
    "# A lot of settings allows a large difference between train and validation, theses are indeed bad\n",
    "import matplotlib.pyplot as plt\n",
    "import math\n",
    "import numpy as np\n",
    "from datetime import datetime\n",
    "from csv import DictReader\n",
    "from math import exp, log, sqrt\n",
    "\n",
    "\n",
    "# ANSWER with ony one vector for parameters. This is also possible to split the first and second order terms\n",
    "def get_x(csv_row, D):\n",
    "    \"\"\"\n",
    "    Apply hash trick for the original csv row\n",
    "    :param csv_row: csv dictionnary ex : {'hash_1': '357', 'hash_2': '', ...}\n",
    "    :param D:int: max index that we can hash\n",
    "    :return : list: return a list of indices to find the corresponding weights.\n",
    "    \"\"\"\n",
    "    # TODO : optimiser en numpy \n",
    "    x = []\n",
    "    for key, value in csv_row.items():\n",
    "        index = int(value + key[4:], 16) % D\n",
    "        x.append(index)\n",
    "    x.append(0)\n",
    "    return x\n",
    "\n",
    "\n",
    "def logloss(p, y):\n",
    "    \"\"\"\n",
    "    :param p:float:prediction of a model\n",
    "    :param y:int: real answer\n",
    "    \"\"\"\n",
    "    p = max(min(p, 1. - 10e-12), 10e-12)\n",
    "    return -log(p) if y == 1. else -log(1. - p)\n",
    "\n",
    "def compute_validation_loss_factorization(w, D, v, k):\n",
    "    \"\"\"\n",
    "    Function that computes to the loss for the fatorization machine method\n",
    "    :param w: list : weights \n",
    "    :param D: int : number of weights possible \n",
    "    :param v: numpy ndarray :factorization matrix\n",
    "    :param k: int: number of factors\n",
    "    \n",
    "    \"\"\"\n",
    "    val_loss = 0\n",
    "    for t, (row, y) in enumerate(zip(DictReader(open(X_valid)), DictReader(open(y_valid)))):\n",
    "        x = get_x(row, D)\n",
    "        p = get_p_factorization(x, w, v, k)\n",
    "        target = float(y['click'])\n",
    "        val_loss += logloss(p, target)\n",
    "    return val_loss / t\n",
    "\n",
    "\n",
    "def get_p_factorization(x, w, v, k):\n",
    "    \"\"\" Function that return the prediction given the parameter of the model\n",
    "    :param x : list : list of indices to map the weights\n",
    "    :param w : list of the weights\n",
    "    :param v : factorization matrix of shape (D,K)\n",
    "    :param k : int : number of factors for K\"\"\"\n",
    "    wTx = 0.\n",
    "    for i in x:\n",
    "        # wTx\n",
    "        wTx += w[i] * 1.  # w[i] * 1\n",
    "\n",
    "    # TODO : documenter cette partie\n",
    "    for f in range(k):\n",
    "        sv = np.sum(v[x, f] * 1) ** 2\n",
    "        wTx += 0.5 * (sv - np.sum(v[x, f] ** 2 * 1))\n",
    "\n",
    "    return 1. / (1. + exp(-max(min(wTx, 20.), -20.)))  # bounded sigmoid\n",
    "\n",
    "\n",
    "def update_wL2_factorization(w, v, n, x, p, y, k, lbd=5e-4, alpha=.01):\n",
    "    \"\"\"Function that upadtes the weights with a gradient descent\n",
    "    :param w:list of weights\n",
    "    :param v:numpy array : factorization matrix\n",
    "    :param n:list mapping how many times we updated a weight\n",
    "    :param x:list: list of indices\n",
    "    :param p: prediction of the model\n",
    "    :param y: label value\n",
    "    :param k: int : number of factors\n",
    "    :param lbd: float : L2 regularization\n",
    "    :param alpha: float : learning rate\"\"\"\n",
    "    for index, value in enumerate(x):\n",
    "        # Update w \n",
    "        w[value] -= ((p - y) + lbd * 2 * w[value]) * alpha / (sqrt(n[value]) + 1.)\n",
    "        n[value] += 1.\n",
    "    # Update v with L2 regularization\n",
    "    for f in range(k):\n",
    "        sv = np.sum(v[x, f])\n",
    "        for index, value in enumerate(x):\n",
    "            v[value, f] -= ((p - y) * (sv - v[value, f]) + lbd * 2 * v[value, f]) * alpha\n",
    "    return w, v, n\n"
   ]
  },
  {
   "cell_type": "markdown",
   "metadata": {},
   "source": [
    "We define the basic terms "
   ]
  },
  {
   "cell_type": "code",
   "execution_count": 50,
   "metadata": {},
   "outputs": [],
   "source": [
    "D = 2 ** 24\n",
    "w, n  = [0.] * D , [0.] * D\n",
    "loss = 0.\n",
    "n_epochs, n_updates = 5, 0\n",
    "training_losses, validation_losses = [], []\n",
    "alpha = .01 \n",
    "k=5\n",
    "\n",
    "\n",
    "X_train = 'X_train.csv' \n",
    "y_train = 'y_train.csv'\n",
    "X_valid = 'X_valid.csv'\n",
    "y_valid = 'y_valid.csv'\n"
   ]
  },
  {
   "cell_type": "markdown",
   "metadata": {},
   "source": [
    "We then initialize the factors matrix ```v```"
   ]
  },
  {
   "cell_type": "code",
   "execution_count": 51,
   "metadata": {},
   "outputs": [],
   "source": [
    "v = np.full(shape = (D, k), fill_value = -0.01)"
   ]
  },
  {
   "cell_type": "markdown",
   "metadata": {},
   "source": [
    "For the number of epochs defined we train the model. We gather the ```training_loss``` and the ```validation_loss```"
   ]
  },
  {
   "cell_type": "code",
   "execution_count": 52,
   "metadata": {},
   "outputs": [
    {
     "name": "stdout",
     "output_type": "stream",
     "text": [
      "2022-01-14 15:14:04.202003\tupdates: 10000\tcurrent logloss on train: 0.317943\tcurrent logloss on validation: 0.271122\n",
      "2022-01-14 15:14:10.349707\tupdates: 20000\tcurrent logloss on train: 0.286493\tcurrent logloss on validation: 0.267589\n",
      "2022-01-14 15:14:16.421620\tupdates: 30000\tcurrent logloss on train: 0.275874\tcurrent logloss on validation: 0.260774\n",
      "2022-01-14 15:14:22.476577\tupdates: 40000\tcurrent logloss on train: 0.274641\tcurrent logloss on validation: 0.262019\n",
      "2022-01-14 15:14:28.542293\tupdates: 50000\tcurrent logloss on train: 0.273379\tcurrent logloss on validation: 0.263118\n",
      "2022-01-14 15:14:34.550048\tupdates: 60000\tcurrent logloss on train: 0.272494\tcurrent logloss on validation: 0.261211\n",
      "2022-01-14 15:14:40.674296\tupdates: 70000\tcurrent logloss on train: 0.271630\tcurrent logloss on validation: 0.258145\n",
      "2022-01-14 15:14:46.827576\tupdates: 80000\tcurrent logloss on train: 0.269361\tcurrent logloss on validation: 0.258261\n",
      "2022-01-14 15:14:52.980642\tupdates: 90000\tcurrent logloss on train: 0.267985\tcurrent logloss on validation: 0.260342\n",
      "2022-01-14 15:14:59.086620\tupdates: 100000\tcurrent logloss on train: 0.266923\tcurrent logloss on validation: 0.255081\n",
      "2022-01-14 15:15:05.203098\tupdates: 110000\tcurrent logloss on train: 0.257197\tcurrent logloss on validation: 0.259795\n",
      "2022-01-14 15:15:11.288693\tupdates: 120000\tcurrent logloss on train: 0.250779\tcurrent logloss on validation: 0.254854\n",
      "2022-01-14 15:15:17.484596\tupdates: 130000\tcurrent logloss on train: 0.247134\tcurrent logloss on validation: 0.263104\n",
      "2022-01-14 15:15:23.619909\tupdates: 140000\tcurrent logloss on train: 0.250836\tcurrent logloss on validation: 0.258255\n",
      "2022-01-14 15:15:29.754175\tupdates: 150000\tcurrent logloss on train: 0.250319\tcurrent logloss on validation: 0.252423\n",
      "2022-01-14 15:15:36.082521\tupdates: 160000\tcurrent logloss on train: 0.251358\tcurrent logloss on validation: 0.258390\n",
      "2022-01-14 15:15:42.225003\tupdates: 170000\tcurrent logloss on train: 0.252201\tcurrent logloss on validation: 0.255229\n",
      "2022-01-14 15:15:48.564743\tupdates: 180000\tcurrent logloss on train: 0.251088\tcurrent logloss on validation: 0.257043\n",
      "2022-01-14 15:15:54.704986\tupdates: 190000\tcurrent logloss on train: 0.250716\tcurrent logloss on validation: 0.259297\n",
      "2022-01-14 15:16:01.025513\tupdates: 200000\tcurrent logloss on train: 0.250294\tcurrent logloss on validation: 0.252279\n",
      "2022-01-14 15:16:07.198194\tupdates: 210000\tcurrent logloss on train: 0.258095\tcurrent logloss on validation: 0.254061\n",
      "2022-01-14 15:16:13.242493\tupdates: 220000\tcurrent logloss on train: 0.245525\tcurrent logloss on validation: 0.258093\n",
      "2022-01-14 15:16:19.422218\tupdates: 230000\tcurrent logloss on train: 0.240948\tcurrent logloss on validation: 0.253096\n",
      "2022-01-14 15:16:25.516060\tupdates: 240000\tcurrent logloss on train: 0.241957\tcurrent logloss on validation: 0.256091\n",
      "2022-01-14 15:16:31.743215\tupdates: 250000\tcurrent logloss on train: 0.241165\tcurrent logloss on validation: 0.261373\n",
      "2022-01-14 15:16:38.009534\tupdates: 260000\tcurrent logloss on train: 0.242993\tcurrent logloss on validation: 0.255493\n",
      "2022-01-14 15:16:43.985479\tupdates: 270000\tcurrent logloss on train: 0.244096\tcurrent logloss on validation: 0.255432\n",
      "2022-01-14 15:16:50.096018\tupdates: 280000\tcurrent logloss on train: 0.243662\tcurrent logloss on validation: 0.256909\n",
      "2022-01-14 15:16:56.207350\tupdates: 290000\tcurrent logloss on train: 0.242401\tcurrent logloss on validation: 0.256780\n",
      "2022-01-14 15:17:02.345159\tupdates: 300000\tcurrent logloss on train: 0.242065\tcurrent logloss on validation: 0.252545\n",
      "2022-01-14 15:17:08.464589\tupdates: 310000\tcurrent logloss on train: 0.245406\tcurrent logloss on validation: 0.256786\n",
      "2022-01-14 15:17:14.535529\tupdates: 320000\tcurrent logloss on train: 0.238397\tcurrent logloss on validation: 0.253184\n",
      "2022-01-14 15:17:20.705662\tupdates: 330000\tcurrent logloss on train: 0.234489\tcurrent logloss on validation: 0.252879\n",
      "2022-01-14 15:17:26.809798\tupdates: 340000\tcurrent logloss on train: 0.234265\tcurrent logloss on validation: 0.249815\n",
      "2022-01-14 15:17:32.830270\tupdates: 350000\tcurrent logloss on train: 0.235606\tcurrent logloss on validation: 0.253894\n",
      "2022-01-14 15:17:39.109872\tupdates: 360000\tcurrent logloss on train: 0.236109\tcurrent logloss on validation: 0.255842\n",
      "2022-01-14 15:17:45.348473\tupdates: 370000\tcurrent logloss on train: 0.237192\tcurrent logloss on validation: 0.259273\n",
      "2022-01-14 15:17:51.410495\tupdates: 380000\tcurrent logloss on train: 0.237072\tcurrent logloss on validation: 0.258662\n",
      "2022-01-14 15:17:57.343842\tupdates: 390000\tcurrent logloss on train: 0.236184\tcurrent logloss on validation: 0.255648\n",
      "2022-01-14 15:18:03.537467\tupdates: 400000\tcurrent logloss on train: 0.235738\tcurrent logloss on validation: 0.258523\n",
      "2022-01-14 15:18:09.816923\tupdates: 410000\tcurrent logloss on train: 0.227981\tcurrent logloss on validation: 0.254099\n",
      "2022-01-14 15:18:15.933537\tupdates: 420000\tcurrent logloss on train: 0.238957\tcurrent logloss on validation: 0.255202\n",
      "2022-01-14 15:18:22.157470\tupdates: 430000\tcurrent logloss on train: 0.229009\tcurrent logloss on validation: 0.257050\n",
      "2022-01-14 15:18:28.316787\tupdates: 440000\tcurrent logloss on train: 0.226293\tcurrent logloss on validation: 0.255616\n",
      "2022-01-14 15:18:34.594946\tupdates: 450000\tcurrent logloss on train: 0.229271\tcurrent logloss on validation: 0.281322\n",
      "2022-01-14 15:18:40.915768\tupdates: 460000\tcurrent logloss on train: 0.229769\tcurrent logloss on validation: 0.258570\n",
      "2022-01-14 15:18:47.072202\tupdates: 470000\tcurrent logloss on train: 0.231074\tcurrent logloss on validation: 0.263060\n",
      "2022-01-14 15:18:53.345562\tupdates: 480000\tcurrent logloss on train: 0.231255\tcurrent logloss on validation: 0.257576\n",
      "2022-01-14 15:18:59.545518\tupdates: 490000\tcurrent logloss on train: 0.230332\tcurrent logloss on validation: 0.253937\n",
      "2022-01-14 15:19:05.753499\tupdates: 500000\tcurrent logloss on train: 0.229948\tcurrent logloss on validation: 0.264767\n",
      "2022-01-14 15:19:11.956215\tupdates: 510000\tcurrent logloss on train: 0.230007\tcurrent logloss on validation: 0.254518\n"
     ]
    }
   ],
   "source": [
    "for e in range(n_epochs):\n",
    "    training_loss = 0\n",
    "    for t, (row, y)  in enumerate(zip(DictReader(open(X_train)), DictReader(open(y_train)))):\n",
    "        x = get_x(row, D)  # I gather the memory placement of the coefficients\n",
    "        p = get_p_factorization(x, w, v, k) # I gather the prediction\n",
    "        target = float(y['click'])\n",
    "        training_loss += logloss(p, target) # I compare my model\n",
    "        if n_updates% 20000 == 0 and n_updates>1:\n",
    "            training_losses.append( training_loss/t )\n",
    "            validation_losses.append( compute_validation_loss_factorization(w, D, v, k) )\n",
    "            print('%s\\tupdates: %d\\tcurrent logloss on train: %f\\tcurrent logloss on validation: %f' % (\n",
    "                datetime.now(), n_updates, training_losses[-1], validation_losses[-1] ))\n",
    "        w, v, n = update_wL2_factorization(w, v, n, x, p, target, k) # Update the coefficients\n",
    "        n_updates += 1\n",
    "        \n",
    "wL2 = w #keep it for later use\n",
    "\n",
    "#Depending on the learning rate and the coefficent in front of regularization this is possible \n",
    "#to have some overfitting advocating for early stopping. Remark that it does not hurt as hard the validation performance \n",
    "#Gains remains quite unclear, possibly due to the small dataset size   "
   ]
  },
  {
   "cell_type": "markdown",
   "metadata": {},
   "source": [
    "We plot the result : "
   ]
  },
  {
   "cell_type": "code",
   "execution_count": 53,
   "metadata": {},
   "outputs": [
    {
     "data": {
      "image/png": "[encoded data removed]",
      "text/plain": [
       "<Figure size 432x288 with 1 Axes>"
      ]
     },
     "metadata": {
      "needs_background": "light"
     },
     "output_type": "display_data"
    }
   ],
   "source": [
    "x = [10000*i for i in range(len(training_losses))]\n",
    "plt.plot(x, training_losses, label='Train')\n",
    "plt.plot(x, validation_losses, label='Validation')\n",
    "plt.xlabel('Number of updates')\n",
    "plt.ylabel('Log Loss')\n",
    "plt.legend(('Train', 'Validation'))\n",
    "plt.title(f'Train and validation loss for {n_epochs} epochs')\n",
    "plt.show()"
   ]
  },
  {
   "cell_type": "markdown",
   "metadata": {},
   "source": [
    "## Interpretation"
   ]
  },
  {
   "cell_type": "markdown",
   "metadata": {},
   "source": [
    "# Answer question 2"
   ]
  },
  {
   "cell_type": "code",
   "execution_count": 55,
   "metadata": {},
   "outputs": [],
   "source": [
    "import numpy as np\n",
    "X_train = np.loadtxt('X_train.csv', skiprows=1, delimiter=',')\n",
    "X_train = [[('%s' % _, 1) for _ in x] for x in X_train][10000:] #Data format expected by the Feature Hasher is a sequence of key,value"
   ]
  },
  {
   "cell_type": "code",
   "execution_count": 56,
   "metadata": {},
   "outputs": [],
   "source": [
    "X_test = 'X_test.csv'\n",
    "y_test = 'y_test_csv'\n",
    "\n",
    "!sed -n 1,50000p X_test.csv > X_opt.csv #CARE we took 10k lines from test as validation.\n",
    "!sed -n 1,50000p y_test.csv > y_opt.csv\n",
    "X_opt = 'X_opt.csv'\n",
    "y_opt = 'y_opt.csv'"
   ]
  },
  {
   "cell_type": "code",
   "execution_count": 57,
   "metadata": {},
   "outputs": [
    {
     "name": "stdout",
     "output_type": "stream",
     "text": [
      "hash_0,hash_1,hash_2,hash_3,hash_4,hash_5,hash_6,hash_7,hash_8,hash_9,hash_10,hash_11,hash_12,hash_13,hash_14,hash_15,hash_16,hash_17,hash_18\n",
      "187652,199446,480789,-84947,-419788,-356697,-73473,-201336,336272,39558,171177,-332795,-197733,-102727,-267888,-324676,172595,-1100,182002\n",
      "-196263,-137304,480789,-428062,347621,-310777,220982,-201336,336272,301505,406906,-265634,467836,-437971,26095,-328942,-400942,-429456,346045\n",
      "-216157,-137304,480789,-428062,347621,-310777,167271,-201336,359042,-311089,306285,-332795,-283182,-102727,495950,-324676,326477,-317260,182002\n",
      "11652,-432181,480789,-169356,287595,-310777,-332084,-201336,310671,409356,-496385,-332795,236957,-102727,-20670,-324676,-153563,258932,-124383\n",
      "224181,-455384,313949,-428062,166559,-310777,167271,-201336,127803,409356,-23318,-332795,286937,35444,335698,-324676,132133,-355723,-124383\n",
      "486387,-432181,480789,-169356,-419788,-356697,-484965,-201336,-428527,-139213,25441,-468602,315199,-102727,-421972,-241726,306269,-271996,346045\n",
      "442096,-411158,480789,-169356,-419788,-356697,-438087,-201336,-22347,-237302,-43085,-449303,-350579,-102727,193941,32790,26518,-27708,346045\n",
      "-47443,-432181,480789,-2679,347621,-310777,167271,-201336,336272,-105474,-7296,-332795,286937,-102727,-103791,-324676,326477,-251246,182002\n",
      "445274,-432181,480789,-428062,287595,-356697,-438087,-201336,-22347,39558,207091,-332795,-473714,-13772,335698,-324676,14846,311823,182002\n"
     ]
    }
   ],
   "source": [
    "!head X_opt.csv"
   ]
  },
  {
   "cell_type": "markdown",
   "metadata": {},
   "source": [
    "We install wandb in our machine."
   ]
  },
  {
   "cell_type": "code",
   "execution_count": 59,
   "metadata": {},
   "outputs": [],
   "source": [
    "# !pip install wandb\n",
    "# !wandb login"
   ]
  },
  {
   "cell_type": "markdown",
   "metadata": {},
   "source": [
    "We define the range of the parameters we want to optimize."
   ]
  },
  {
   "cell_type": "code",
   "execution_count": null,
   "metadata": {},
   "outputs": [],
   "source": [
    "import wandb\n",
    "sweep_config = {\n",
    "  \"name\" : \"TP1-ENSAE-hyperparameter_search\",\n",
    "  \"method\" : \"random\", #There exist several strategies such as Bayes and it possible to add some early stopping (see Hyperband). Care NCE is not a loss (higher is better)\n",
    "  \"parameters\" : {\n",
    "    \"learning_rate\" :{\n",
    "      \"min\": 0.0001,\n",
    "      \"max\": 0.1\n",
    "    },\n",
    "    \"l2\":{\n",
    "      \"min\": 0.,\n",
    "      \"max\": 0.1\n",
    "    },\n",
    "    \"k\":{\n",
    "      \"min\": 2,\n",
    "      \"max\": 20\n",
    "    },\n",
    "  }\n",
    "}\n",
    "sweep_id = wandb.sweep(sweep_config)"
   ]
  },
  {
   "cell_type": "code",
   "execution_count": null,
   "metadata": {},
   "outputs": [
    {
     "name": "stderr",
     "output_type": "stream",
     "text": [
      "\u001b[34m\u001b[1mwandb\u001b[0m: You can find your API key in your browser here: https://wandb.ai/authorize\n"
     ]
    },
    {
     "name": "stdin",
     "output_type": "stream",
     "text": [
      "\u001b[34m\u001b[1mwandb\u001b[0m: Paste an API key from your profile and hit enter, or press ctrl+c to quit:  ········\n"
     ]
    },
    {
     "name": "stderr",
     "output_type": "stream",
     "text": [
      "\u001b[34m\u001b[1mwandb\u001b[0m: \u001b[32m\u001b[41mERROR\u001b[0m API key must be 40 characters long, yours was 8\n",
      "\u001b[34m\u001b[1mwandb\u001b[0m: You can find your API key in your browser here: https://wandb.ai/authorize\n"
     ]
    }
   ],
   "source": [
    "import wandb\n",
    "sweep_config = {\n",
    "  \"name\" : \"TP1-ENSAE-hyperparameter_search\",\n",
    "  \"method\" : \"random\", #There exist several strategies such as Bayes and it possible to add some early stopping (see Hyperband). Care NCE is not a loss (higher is better)\n",
    "  \"parameters\" : {\n",
    "    \"k\":{\n",
    "      \"min\": 2,\n",
    "      \"max\": 20\n",
    "    },\n",
    "  }\n",
    "}\n",
    "sweep_id = wandb.sweep(sweep_config)"
   ]
  },
  {
   "cell_type": "code",
   "execution_count": null,
   "metadata": {},
   "outputs": [],
   "source": [
    "def train():\n",
    "    with wandb.init(reinit=True) as run:\n",
    "        config = wandb.config\n",
    "        D = 2 ** 24\n",
    "        w = [0.] * D  \n",
    "        n = [0.] * D\n",
    "        alpha = .01\n",
    "        n_epochs = 1\n",
    "        loss = 0.\n",
    "        n_updates = 0\n",
    "        v = np.full(shape = (D, config['k']), fill_value = -0.1)\n",
    "\n",
    "    for e in range(n_epochs):\n",
    "        for t, (row, y)  in enumerate(zip(DictReader(open(X_opt)), DictReader(open(y_opt)))):\n",
    "            x = get_x(row, D)\n",
    "            p = get_p_factorization(x, w, v, config['k'])\n",
    "            target = float(y['click'])\n",
    "            if n_updates% 10000 == 0 and n_updates>1:\n",
    "                wandb.log({\"loss\": compute_validation_loss_factorization(w, D, v, config['k']),\n",
    "                         \"epoch\": e,\"n_updates\":n_updates})\n",
    "            w, v, n = update_wL2_factorization(w, v, n, x, p, target, config['k'])  \n",
    "            n_updates += 1\n",
    "\n",
    "count = 10 #Indeed the more the better and longer\n",
    "#Using the same sweep_id it is also possible to distribute the training\n",
    "wandb.agent(sweep_id, function=train, count=count) "
   ]
  },
  {
   "cell_type": "code",
   "execution_count": null,
   "metadata": {},
   "outputs": [],
   "source": []
  }
 ],
 "metadata": {
  "kernelspec": {
   "display_name": "Python 3",
   "language": "python",
   "name": "python3"
  },
  "language_info": {
   "codemirror_mode": {
    "name": "ipython",
    "version": 3
   },
   "file_extension": ".py",
   "mimetype": "text/x-python",
   "name": "python",
   "nbconvert_exporter": "python",
   "pygments_lexer": "ipython3",
   "version": "3.6.9"
  }
 },
 "nbformat": 4,
 "nbformat_minor": 4
}
